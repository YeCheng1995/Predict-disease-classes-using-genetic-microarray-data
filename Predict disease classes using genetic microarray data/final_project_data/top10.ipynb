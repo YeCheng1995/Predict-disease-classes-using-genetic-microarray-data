{
 "cells": [
  {
   "cell_type": "code",
   "execution_count": 1,
   "metadata": {},
   "outputs": [],
   "source": [
    "import csv\n",
    "import numpy as np\n",
    "import pandas as pd\n",
    "import matplotlib.pyplot as plt\n",
    "from scipy import stats\n",
    "from sklearn.utils.multiclass import unique_labels\n",
    "from statistics import mean\n",
    "import statistics\n",
    "\n",
    "from sklearn.model_selection import train_test_split\n",
    "from sklearn.naive_bayes import GaussianNB\n",
    "from sklearn import tree\n",
    "from sklearn.neighbors import KNeighborsClassifier\n",
    "from sklearn.neural_network import MLPClassifier\n",
    "from sklearn.linear_model import SGDClassifier\n",
    "from sklearn.ensemble import AdaBoostClassifier"
   ]
  },
  {
   "cell_type": "markdown",
   "metadata": {},
   "source": [
    "# Extraction of top gene from test set"
   ]
  },
  {
   "cell_type": "code",
   "execution_count": 2,
   "metadata": {},
   "outputs": [],
   "source": [
    "datas = pd.read_csv('./pp5i_train.top10.gr.csv')\n",
    "tests = pd.read_csv('./pp5i_test.gr.csv')\n",
    "\n",
    "xx = datas.columns\n",
    "xx = np.array(xx)\n",
    "xx = xx.tolist()\n",
    "del(xx[0]) \n",
    "\n",
    "allgenename = []\n",
    "allgenename = tests['SNO']\n",
    "#print(allgenename) \n",
    "tests = tests.T\n",
    "tests.columns = allgenename\n",
    "tests.drop(index=tests.index[0],axis=0,inplace=True)\n",
    "\n",
    "#i, j = np.where(tests.values == 'Z78285_f_at')\n",
    "#print(tests)"
   ]
  },
  {
   "cell_type": "code",
   "execution_count": 3,
   "metadata": {},
   "outputs": [
    {
     "data": {
      "text/plain": [
       "(23, 50)"
      ]
     },
     "execution_count": 3,
     "metadata": {},
     "output_type": "execute_result"
    }
   ],
   "source": [
    "#add top gene to test1\n",
    "\n",
    "test1 = pd.DataFrame()\n",
    "\n",
    "for i in xx:\n",
    "    test1[i] = tests[i]\n",
    "#print(test1) \n",
    "test1.shape\n"
   ]
  },
  {
   "cell_type": "code",
   "execution_count": 4,
   "metadata": {},
   "outputs": [],
   "source": [
    "x=datas.head(69)\n",
    "x = x.drop('SNO',axis=1)\n",
    "#print(x)\n",
    "\n",
    "train_class = open('pp5i_train_class.txt')\n",
    "#classes.read()\n",
    "classes = []\n",
    "for i in train_class:\n",
    "    classes.append(i.replace(\"\\n\", \"\"))\n",
    "classes = np.array(classes)\n",
    "classes = classes.tolist()\n",
    "del(classes[0]) \n",
    "#print(classes)\n",
    "y = classes\n",
    "\n",
    "x_train, x_test, y_train, y_test = train_test_split(x, y, test_size=0.2)\n",
    "best_accuracy = []\n",
    "average_error_rate = []\n",
    "test_predict = []"
   ]
  },
  {
   "cell_type": "markdown",
   "metadata": {},
   "source": [
    "# Naïve Bayes"
   ]
  },
  {
   "cell_type": "code",
   "execution_count": 5,
   "metadata": {},
   "outputs": [
    {
     "name": "stdout",
     "output_type": "stream",
     "text": [
      "y_predict: ['MED' 'MGL' 'EPD' 'MED' 'EPD' 'MED' 'MED' 'MGL' 'JPA' 'MED' 'RHB' 'MED'\n",
      " 'EPD' 'MED']\n",
      "\n",
      "actual y_test: ['MED', 'MGL', 'EPD', 'MED', 'EPD', 'MED', 'MED', 'MGL', 'JPA', 'MED', 'RHB', 'MGL', 'EPD', 'MED']\n",
      "\n",
      "accuracy:  0.9285714285714286\n",
      "\n",
      "error_rate:  0.0714285714285714\n",
      "\n",
      "y_predict1 for test set: ['EPD' 'EPD' 'EPD' 'EPD' 'EPD' 'EPD' 'EPD' 'EPD' 'EPD' 'EPD' 'EPD' 'EPD'\n",
      " 'EPD' 'EPD' 'EPD' 'EPD' 'EPD' 'EPD' 'EPD' 'EPD' 'EPD' 'EPD' 'EPD']\n"
     ]
    }
   ],
   "source": [
    "clf=GaussianNB() \n",
    "\n",
    "clf.fit(x_train, y_train)\n",
    "y_predict = clf.predict(x_test)\n",
    "print(\"y_predict:\",y_predict)\n",
    "print(\"\")\n",
    "print(\"actual y_test:\",y_test)\n",
    "print(\"\")\n",
    "accuracy = ((y_predict!=y_test)==0).sum()/len(y_test)\n",
    "print('accuracy: ',accuracy)\n",
    "print(\"\")\n",
    "error_rate = 1-accuracy\n",
    "print('error_rate: ',error_rate)\n",
    "\n",
    "best_accuracy.append(accuracy) \n",
    "average_error_rate.append(error_rate) \n",
    "print(\"\")\n",
    "\n",
    "clf=GaussianNB() \n",
    "clf.fit(x, y)\n",
    "y_predict = clf.predict(test1)\n",
    "print(\"y_predict1 for test set:\",y_predict)\n",
    "test_predict.append(y_predict)"
   ]
  },
  {
   "cell_type": "markdown",
   "metadata": {},
   "source": [
    "# Decision tree "
   ]
  },
  {
   "cell_type": "code",
   "execution_count": 6,
   "metadata": {},
   "outputs": [
    {
     "name": "stdout",
     "output_type": "stream",
     "text": [
      "y_predict: ['MED' 'MGL' 'EPD' 'MED' 'EPD' 'MED' 'MED' 'MGL' 'JPA' 'MED' 'RHB' 'MED'\n",
      " 'EPD' 'MED']\n",
      "\n",
      "actual y_test: ['MED', 'MGL', 'EPD', 'MED', 'EPD', 'MED', 'MED', 'MGL', 'JPA', 'MED', 'RHB', 'MGL', 'EPD', 'MED']\n",
      "\n",
      "accuracy:  0.9285714285714286\n",
      "\n",
      "error_rate:  0.0714285714285714\n",
      "\n",
      "y_predict1 for test set: ['MGL' 'RHB' 'MED' 'MED' 'EPD' 'MED' 'MED' 'MED' 'EPD' 'JPA' 'JPA' 'MED'\n",
      " 'MED' 'MED' 'MED' 'MED' 'MGL' 'EPD' 'MED' 'RHB' 'RHB' 'MED' 'MGL']\n"
     ]
    }
   ],
   "source": [
    "Dec = tree.DecisionTreeClassifier()\n",
    "\n",
    "Dec.fit(x_train, y_train)\n",
    "y_predict = Dec.predict(x_test)\n",
    "print(\"y_predict:\",y_predict)\n",
    "print(\"\")\n",
    "print(\"actual y_test:\",y_test)\n",
    "print(\"\")\n",
    "accuracy1 = ((y_predict!=y_test)==0).sum()/len(y_test)\n",
    "print('accuracy: ',accuracy1)\n",
    "print(\"\")\n",
    "error_rate1 = 1-accuracy1\n",
    "print('error_rate: ',error_rate1)\n",
    "\n",
    "best_accuracy.append(accuracy1) \n",
    "average_error_rate.append(error_rate1)\n",
    "print(\"\")\n",
    "\n",
    "Dec = tree.DecisionTreeClassifier() \n",
    "Dec.fit(x, y)\n",
    "y_predict1 = Dec.predict(test1)\n",
    "print(\"y_predict1 for test set:\",y_predict1)\n",
    "test_predict.append(y_predict1)\n"
   ]
  },
  {
   "cell_type": "markdown",
   "metadata": {},
   "source": [
    "# K-nn"
   ]
  },
  {
   "cell_type": "code",
   "execution_count": 7,
   "metadata": {},
   "outputs": [
    {
     "name": "stdout",
     "output_type": "stream",
     "text": [
      "y_predict: ['MED' 'MGL' 'EPD' 'MED' 'EPD' 'MED' 'MED' 'MGL' 'JPA' 'MED' 'RHB' 'MGL'\n",
      " 'EPD' 'MED']\n",
      "\n",
      "actual y_test: ['MED', 'MGL', 'EPD', 'MED', 'EPD', 'MED', 'MED', 'MGL', 'JPA', 'MED', 'RHB', 'MGL', 'EPD', 'MED']\n",
      "\n",
      "accuracy:  1.0\n",
      "\n",
      "error_rate:  0.0\n",
      "\n",
      "y_predict2 for test set: ['MED' 'EPD' 'MED' 'MED' 'EPD' 'MED' 'MED' 'MED' 'EPD' 'JPA' 'JPA' 'MED'\n",
      " 'MED' 'MED' 'MED' 'MED' 'MGL' 'MED' 'MED' 'RHB' 'EPD' 'MED' 'EPD']\n"
     ]
    }
   ],
   "source": [
    "knn = KNeighborsClassifier(n_neighbors=2) \n",
    "\n",
    "knn.fit(x_train, y_train)\n",
    "y_predict = knn.predict(x_test)\n",
    "print(\"y_predict:\",y_predict)\n",
    "print(\"\")\n",
    "print(\"actual y_test:\",y_test)\n",
    "print(\"\")\n",
    "accuracy2 = ((y_predict!=y_test)==0).sum()/len(y_test)\n",
    "print('accuracy: ',accuracy2)\n",
    "print(\"\")\n",
    "error_rate2 = 1-accuracy2\n",
    "print('error_rate: ',error_rate2)\n",
    "\n",
    "best_accuracy.append(accuracy2) \n",
    "average_error_rate.append(error_rate2)\n",
    "print(\"\")\n",
    "\n",
    "knn = KNeighborsClassifier(n_neighbors=2) \n",
    "knn.fit(x, y)\n",
    "y_predict2 = knn.predict(test1)\n",
    "print(\"y_predict2 for test set:\",y_predict2)\n",
    "test_predict.append(y_predict2)\n"
   ]
  },
  {
   "cell_type": "code",
   "execution_count": 8,
   "metadata": {},
   "outputs": [
    {
     "name": "stdout",
     "output_type": "stream",
     "text": [
      "y_predict: ['MED' 'MGL' 'EPD' 'MED' 'EPD' 'MED' 'MED' 'MGL' 'JPA' 'MED' 'RHB' 'MGL'\n",
      " 'EPD' 'MED']\n",
      "\n",
      "actual y_test: ['MED', 'MGL', 'EPD', 'MED', 'EPD', 'MED', 'MED', 'MGL', 'JPA', 'MED', 'RHB', 'MGL', 'EPD', 'MED']\n",
      "\n",
      "accuracy:  1.0\n",
      "\n",
      "error_rate:  0.0\n",
      "\n",
      "y_predict3 for test set: ['MGL' 'EPD' 'MED' 'MED' 'EPD' 'MED' 'MED' 'MED' 'EPD' 'JPA' 'JPA' 'MED'\n",
      " 'MED' 'MED' 'MED' 'MED' 'MGL' 'MED' 'MED' 'RHB' 'EPD' 'MED' 'EPD']\n"
     ]
    }
   ],
   "source": [
    "knn1 = KNeighborsClassifier(n_neighbors=3) \n",
    "\n",
    "knn1.fit(x_train, y_train)\n",
    "y_predict = knn1.predict(x_test)\n",
    "print(\"y_predict:\",y_predict)\n",
    "print(\"\")\n",
    "print(\"actual y_test:\",y_test)\n",
    "print(\"\")\n",
    "accuracy3 = ((y_predict!=y_test)==0).sum()/len(y_test)\n",
    "print('accuracy: ',accuracy3)\n",
    "print(\"\")\n",
    "error_rate3 = 1-accuracy3\n",
    "print('error_rate: ',error_rate3)\n",
    "\n",
    "best_accuracy.append(accuracy3) \n",
    "average_error_rate.append(error_rate3)\n",
    "print(\"\")\n",
    "\n",
    "knn1 = KNeighborsClassifier(n_neighbors=3)  \n",
    "knn1.fit(x, y)\n",
    "y_predict3 = knn1.predict(test1)\n",
    "print(\"y_predict3 for test set:\",y_predict3)\n",
    "test_predict.append(y_predict3)\n"
   ]
  },
  {
   "cell_type": "code",
   "execution_count": 9,
   "metadata": {},
   "outputs": [
    {
     "name": "stdout",
     "output_type": "stream",
     "text": [
      "y_predict: ['MED' 'MED' 'MED' 'EPD' 'EPD' 'MED' 'RHB' 'EPD' 'RHB' 'MED' 'MED' 'MED'\n",
      " 'EPD' 'MED']\n",
      "\n",
      "actual y_test: ['MED', 'MED', 'MED', 'EPD', 'EPD', 'MED', 'RHB', 'EPD', 'MED', 'MED', 'MED', 'MED', 'EPD', 'MED']\n",
      "\n",
      "accuracy:  0.9285714285714286\n",
      "\n",
      "error_rate:  0.0714285714285714\n",
      "\n",
      "y_predict4 for test set: ['MED' 'EPD' 'MED' 'MED' 'EPD' 'MED' 'MED' 'MED' 'EPD' 'JPA' 'JPA' 'MED'\n",
      " 'MED' 'MED' 'MED' 'MED' 'MGL' 'MED' 'MED' 'RHB' 'EPD' 'MED' 'EPD']\n"
     ]
    }
   ],
   "source": [
    "knn2 = KNeighborsClassifier(n_neighbors=4) \n",
    "\n",
    "knn2.fit(x_train, y_train)\n",
    "y_predict = knn2.predict(x_test)\n",
    "print(\"y_predict:\",y_predict)\n",
    "print(\"\")\n",
    "print(\"actual y_test:\",y_test)\n",
    "print(\"\")\n",
    "accuracy4 = ((y_predict!=y_test)==0).sum()/len(y_test)\n",
    "print('accuracy: ',accuracy4)\n",
    "print(\"\")\n",
    "error_rate4 = 1-accuracy4\n",
    "print('error_rate: ',error_rate4)\n",
    "\n",
    "best_accuracy.append(accuracy4) \n",
    "average_error_rate.append(error_rate4)\n",
    "print(\"\")\n",
    "\n",
    "knn2 = KNeighborsClassifier(n_neighbors=4)  \n",
    "knn2.fit(x, y)\n",
    "y_predict4 = knn2.predict(test1)\n",
    "print(\"y_predict4 for test set:\",y_predict4)\n",
    "test_predict.append(y_predict4)\n",
    "\n",
    "\n"
   ]
  },
  {
   "cell_type": "markdown",
   "metadata": {},
   "source": [
    "# neural network"
   ]
  },
  {
   "cell_type": "code",
   "execution_count": 10,
   "metadata": {},
   "outputs": [
    {
     "name": "stdout",
     "output_type": "stream",
     "text": [
      "y_predict: ['MED' 'MED' 'MED' 'EPD' 'EPD' 'MED' 'RHB' 'EPD' 'RHB' 'MED' 'MED' 'MED'\n",
      " 'EPD' 'MED']\n",
      "\n",
      "actual y_test: ['MED', 'MED', 'MED', 'EPD', 'EPD', 'MED', 'RHB', 'EPD', 'MED', 'MED', 'MED', 'MED', 'EPD', 'MED']\n",
      "\n",
      "accuracy:  0.9285714285714286\n",
      "\n",
      "error_rate:  0.0714285714285714\n",
      "\n",
      "y_predict5 for test set: ['MGL' 'EPD' 'MGL' 'MED' 'EPD' 'MED' 'MED' 'MED' 'EPD' 'MGL' 'JPA' 'MED'\n",
      " 'MED' 'MED' 'MGL' 'MED' 'MGL' 'MED' 'MED' 'MED' 'EPD' 'MED' 'EPD']\n"
     ]
    }
   ],
   "source": [
    "neu = MLPClassifier()\n",
    "\n",
    "neu.fit(x_train, y_train)\n",
    "y_predict = neu.predict(x_test)\n",
    "print(\"y_predict:\",y_predict)\n",
    "print(\"\")\n",
    "print(\"actual y_test:\",y_test)\n",
    "print(\"\")\n",
    "accuracy5 = ((y_predict!=y_test)==0).sum()/len(y_test)\n",
    "print('accuracy: ',accuracy5)\n",
    "print(\"\")\n",
    "error_rate5 = 1-accuracy5\n",
    "print('error_rate: ',error_rate5)\n",
    "\n",
    "best_accuracy.append(accuracy5) \n",
    "average_error_rate.append(error_rate5)\n",
    "print(\"\")\n",
    "\n",
    "neu = MLPClassifier() \n",
    "neu.fit(x, y)\n",
    "y_predict5 = neu.predict(test1)\n",
    "print(\"y_predict5 for test set:\",y_predict5)\n",
    "test_predict.append(y_predict5)\n"
   ]
  },
  {
   "cell_type": "markdown",
   "metadata": {},
   "source": [
    "# Linear classifier"
   ]
  },
  {
   "cell_type": "code",
   "execution_count": 11,
   "metadata": {},
   "outputs": [
    {
     "name": "stdout",
     "output_type": "stream",
     "text": [
      "y_predict: ['MED' 'MED' 'MED' 'EPD' 'EPD' 'MED' 'RHB' 'EPD' 'RHB' 'MED' 'MED' 'MED'\n",
      " 'EPD' 'MED']\n",
      "\n",
      "actual y_test: ['MED', 'MED', 'MED', 'EPD', 'EPD', 'MED', 'RHB', 'EPD', 'MED', 'MED', 'MED', 'MED', 'EPD', 'MED']\n",
      "\n",
      "accuracy:  0.9285714285714286\n",
      "\n",
      "error_rate:  0.0714285714285714\n",
      "\n",
      "y_predict6 for test set: ['MGL' 'EPD' 'MED' 'MED' 'EPD' 'MED' 'MED' 'MED' 'EPD' 'JPA' 'JPA' 'MED'\n",
      " 'MED' 'MED' 'MED' 'MED' 'EPD' 'MED' 'MED' 'RHB' 'EPD' 'MED' 'EPD']\n"
     ]
    }
   ],
   "source": [
    "lin = SGDClassifier()\n",
    "\n",
    "lin.fit(x_train, y_train)\n",
    "y_predict = lin.predict(x_test)\n",
    "print(\"y_predict:\",y_predict)\n",
    "print(\"\")\n",
    "print(\"actual y_test:\",y_test)\n",
    "print(\"\")\n",
    "accuracy6 = ((y_predict!=y_test)==0).sum()/len(y_test)\n",
    "print('accuracy: ',accuracy6)\n",
    "print(\"\")\n",
    "error_rate6 = 1-accuracy6\n",
    "print('error_rate: ',error_rate6)\n",
    "\n",
    "best_accuracy.append(accuracy6) \n",
    "average_error_rate.append(error_rate6)\n",
    "print(\"\")\n",
    "\n",
    "lin = SGDClassifier() \n",
    "lin.fit(x, y)\n",
    "y_predict6 = lin.predict(test1)\n",
    "print(\"y_predict6 for test set:\",y_predict6)\n",
    "test_predict.append(y_predict6)\n",
    "\n"
   ]
  },
  {
   "cell_type": "markdown",
   "metadata": {},
   "source": [
    "# AdaBoost"
   ]
  },
  {
   "cell_type": "code",
   "execution_count": 12,
   "metadata": {},
   "outputs": [
    {
     "name": "stdout",
     "output_type": "stream",
     "text": [
      "y_predict: ['MGL' 'MED' 'MED' 'RHB' 'EPD' 'MED' 'MED' 'EPD' 'RHB' 'MED' 'MED' 'MED'\n",
      " 'EPD' 'MED']\n",
      "\n",
      "actual y_test: ['MED', 'MED', 'MED', 'EPD', 'EPD', 'MED', 'RHB', 'EPD', 'MED', 'MED', 'MED', 'MED', 'EPD', 'MED']\n",
      "\n",
      "accuracy:  0.7142857142857143\n",
      "\n",
      "error_rate:  0.2857142857142857\n",
      "\n",
      "y_predict7 for test set: ['MGL' 'JPA' 'MED' 'MED' 'EPD' 'MED' 'MED' 'MED' 'EPD' 'JPA' 'JPA' 'MED'\n",
      " 'MED' 'MED' 'MED' 'MED' 'MGL' 'MED' 'RHB' 'RHB' 'RHB' 'MED' 'MGL']\n"
     ]
    }
   ],
   "source": [
    "ada = AdaBoostClassifier(base_estimator= Dec,\n",
    "                         n_estimators=500, \n",
    "                         learning_rate=0.1,\n",
    "                         random_state=0)\n",
    "ada.fit(x_train, y_train)\n",
    "y_predict = ada.predict(x_test)\n",
    "print(\"y_predict:\",y_predict)\n",
    "print(\"\")\n",
    "print(\"actual y_test:\",y_test)\n",
    "print(\"\")\n",
    "accuracy7 = ((y_predict!=y_test)==0).sum()/len(y_test)\n",
    "print('accuracy: ',accuracy7)\n",
    "print(\"\")\n",
    "error_rate7 = 1-accuracy7\n",
    "print('error_rate: ',error_rate7)\n",
    "\n",
    "#best_accuracy.append(accuracy7) \n",
    "#average_error_rate.append(error_rate7)\n",
    "print(\"\")\n",
    "\n",
    "ada = AdaBoostClassifier(base_estimator= Dec,\n",
    "                         n_estimators=500, \n",
    "                         learning_rate=0.1,\n",
    "                         random_state=0)\n",
    "ada.fit(x, y)\n",
    "y_predict7 = ada.predict(test1)\n",
    "print(\"y_predict7 for test set:\",y_predict7)\n",
    "test_predict.append(y_predict7)"
   ]
  },
  {
   "cell_type": "markdown",
   "metadata": {},
   "source": [
    "# summary"
   ]
  },
  {
   "cell_type": "code",
   "execution_count": 13,
   "metadata": {},
   "outputs": [
    {
     "name": "stdout",
     "output_type": "stream",
     "text": [
      "[0.7142857142857143, 0.7857142857142857, 0.9285714285714286, 0.9285714285714286, 0.9285714285714286, 0.9285714285714286, 0.9285714285714286]\n",
      "\n",
      "[0.2857142857142857, 0.2142857142857143, 0.0714285714285714, 0.0714285714285714, 0.0714285714285714, 0.0714285714285714, 0.0714285714285714]\n",
      "\n",
      "0.12244897959183672\n",
      "\n",
      "max_index 2\n",
      "\n"
     ]
    }
   ],
   "source": [
    "print(best_accuracy)\n",
    "print(\"\")\n",
    "print(average_error_rate)\n",
    "print(\"\")\n",
    "ave_error =  np.mean(average_error_rate) \n",
    "print(ave_error)\n",
    "print(\"\")\n",
    "max_index = best_accuracy.index(max(best_accuracy, key = abs))\n",
    "print(\"max_index\",max_index)\n",
    "print(\"\")\n",
    "\n",
    "test1['Class'] = test_predict[max_index]\n",
    "#print(test1)\n",
    "test1.to_csv('pp5i_test.best10.csv')"
   ]
  },
  {
   "cell_type": "code",
   "execution_count": 14,
   "metadata": {},
   "outputs": [],
   "source": [
    "summary = pd.read_csv('./summary.csv')\n",
    "summary['10'] = round(ave_error, 5)\n",
    "\n",
    "name = ['Naïve Bayes','Decision tree','K-nn2','K-nn3','K-nn4','Neural network','Linear classifier']\n",
    "summary.loc[1:,'10'] = np.min(average_error_rate)\n",
    "summary.loc[2:,'10'] = name[max_index]\n",
    "\n",
    "summary.to_csv(\"./summary.csv\", index=False, sep=',') \n",
    "\n"
   ]
  },
  {
   "cell_type": "code",
   "execution_count": null,
   "metadata": {},
   "outputs": [],
   "source": []
  },
  {
   "cell_type": "code",
   "execution_count": null,
   "metadata": {},
   "outputs": [],
   "source": []
  },
  {
   "cell_type": "code",
   "execution_count": null,
   "metadata": {},
   "outputs": [],
   "source": []
  }
 ],
 "metadata": {
  "kernelspec": {
   "display_name": "Python 3",
   "language": "python",
   "name": "python3"
  },
  "language_info": {
   "codemirror_mode": {
    "name": "ipython",
    "version": 3
   },
   "file_extension": ".py",
   "mimetype": "text/x-python",
   "name": "python",
   "nbconvert_exporter": "python",
   "pygments_lexer": "ipython3",
   "version": "3.8.10"
  }
 },
 "nbformat": 4,
 "nbformat_minor": 4
}
