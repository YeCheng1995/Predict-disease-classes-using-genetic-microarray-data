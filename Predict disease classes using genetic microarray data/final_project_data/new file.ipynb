{
 "cells": [
  {
   "cell_type": "code",
   "execution_count": 4,
   "metadata": {},
   "outputs": [],
   "source": [
    "'''\n",
    "import csv\n",
    "import numpy as np\n",
    "import pandas as pd\n",
    "a = []\n",
    "\n",
    "DF_data = pd.DataFrame(a,columns=['2','4','6','8','10','12','15','20','25','30'],index=['ave err rate','best err rate','model name'])\n",
    "\n",
    "DF_data.to_csv('summary.csv')\n",
    "\n",
    "'''\n",
    " \n",
    " \n",
    "\n"
   ]
  },
  {
   "cell_type": "code",
   "execution_count": null,
   "metadata": {},
   "outputs": [],
   "source": []
  }
 ],
 "metadata": {
  "kernelspec": {
   "display_name": "Python 3",
   "language": "python",
   "name": "python3"
  },
  "language_info": {
   "codemirror_mode": {
    "name": "ipython",
    "version": 3
   },
   "file_extension": ".py",
   "mimetype": "text/x-python",
   "name": "python",
   "nbconvert_exporter": "python",
   "pygments_lexer": "ipython3",
   "version": "3.8.3"
  }
 },
 "nbformat": 4,
 "nbformat_minor": 4
}
